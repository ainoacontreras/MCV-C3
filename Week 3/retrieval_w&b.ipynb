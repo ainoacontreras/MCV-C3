{
 "cells": [
  {
   "cell_type": "code",
   "execution_count": 1,
   "metadata": {},
   "outputs": [],
   "source": [
    "import torch\n",
    "import torch.nn as nn\n",
    "import torch.nn.functional as F\n",
    "from torch.utils.data import DataLoader, random_split\n",
    "from torchvision import datasets\n",
    "from data_utils import CustomTransform\n",
    "import numpy as np\n",
    "import wandb\n",
    "from sklearn.neighbors import NearestNeighbors\n",
    "from sklearn.cluster import MiniBatchKMeans\n",
    "from sklearn.metrics import precision_recall_curve, average_precision_score, PrecisionRecallDisplay\n",
    "import matplotlib.pyplot as plt\n",
    "import tqdm\n",
    "import faiss\n",
    "import pickle"
   ]
  },
  {
   "cell_type": "code",
   "execution_count": 2,
   "metadata": {},
   "outputs": [],
   "source": [
    "# Define a function to extract features from an image\n",
    "def extract_features(loader, model, device):\n",
    "    with torch.no_grad():    \n",
    "        features, labels = [], []\n",
    "        for img, label in tqdm.tqdm(loader, total=len(loader), desc='Extracting features'):\n",
    "            features.append(model(img.to(device)).cpu().detach().numpy())\n",
    "            labels.append(label)\n",
    "    return np.concatenate(features).astype('float32'), np.concatenate(labels)\n",
    "\n",
    "\n",
    "# k-NN Classifier for Image Retrieval\n",
    "class ImageRetrievalSystem:\n",
    "    def __init__(self, model, train_dataloader, test_dataloader, config):\n",
    "        self.model = model\n",
    "        self.train_dataloader = train_dataloader\n",
    "        self.test_dataloader = test_dataloader\n",
    "        self.device = config['device']\n",
    "\n",
    "        self.dim = 2048\n",
    "        self.classifier_type = config['classifier']\n",
    "        self.n_neighbors = config['n_neighbors']\n",
    "\n",
    "        if self.classifier_type == 'knn':\n",
    "            self.classifier = NearestNeighbors(n_neighbors=config['n_neighbors'], metric=config['metric'])\n",
    "        else:\n",
    "            self.classifier = faiss.IndexIVFFlat(faiss.IndexFlatL2(self.dim), self.dim, config['voronoi_cells'])\n",
    "            self.classifier.nprobe = config['lookup_cells']\n",
    "\n",
    "    def fit(self, precomputed=False):\n",
    "\n",
    "        if not precomputed:\n",
    "            features, self.train_labels = extract_features(self.train_dataloader, self.model, self.device)\n",
    "\n",
    "            with open('train_features.pkl', 'wb') as f:\n",
    "                pickle.dump((features, self.train_labels), f)\n",
    "\n",
    "        else:\n",
    "            with open('train_features.pkl', 'rb') as f:\n",
    "                features, self.train_labels = pickle.load(f)\n",
    "        \n",
    "        print('Fitting the classifier...')\n",
    "        if self.classifier_type == 'knn':\n",
    "            self.classifier.fit(features, self.train_labels)\n",
    "        else:\n",
    "            self.classifier.train(features)\n",
    "            self.classifier.add(features)\n",
    "\n",
    "    def retrieve(self, precomputed=False):\n",
    "\n",
    "        if not precomputed:\n",
    "            features, labels = extract_features(self.test_dataloader, self.model, self.device)\n",
    "\n",
    "            with open('test_features.pkl', 'wb') as f:\n",
    "                pickle.dump((features, labels), f)\n",
    "\n",
    "        else:\n",
    "            with open('test_features.pkl', 'rb') as f:\n",
    "                features, labels = pickle.load(f)\n",
    "        \n",
    "        print('Retrieving images...')\n",
    "        if self.classifier_type == 'knn':\n",
    "            _, predictions = self.classifier.kneighbors(features, return_distance=True)\n",
    "        else:\n",
    "            _, predictions = self.classifier.search(features, self.n_neighbors)\n",
    "        \n",
    "        return predictions, labels"
   ]
  },
  {
   "cell_type": "code",
   "execution_count": 3,
   "metadata": {},
   "outputs": [],
   "source": [
    "def evaluate(predictions, labels, config):\n",
    "\n",
    "    # Prec@1\n",
    "    prec_at_1 = np.mean([1 if predictions[i, 0] == labels[i] else 0 for i in range(predictions.shape[0])])\n",
    "\n",
    "    # Prec@5\n",
    "    prec_at_5 = np.mean([np.sum([1 if predictions[i, j] == labels[i] else 0 for j in range(config['n_neighbors'])]) / config['n_neighbors'] for i in range(predictions.shape[0])])\n",
    "\n",
    "    # Initialize list to store average precision for each query\n",
    "    average_precisions = []\n",
    "\n",
    "    # Compute binary relevance arrays and calculate average precision for each query\n",
    "    for i in range(predictions.shape[0]):\n",
    "        # Convert true label into binary format for each prediction\n",
    "        binary_relevance = np.array([1 if label == labels[i] else 0 for label in predictions[i]])\n",
    "        \n",
    "        # Ensure there is at least one positive class to avoid division by zero in AP score calculation\n",
    "        if np.sum(binary_relevance) > 0:\n",
    "            # Compute the average precision for the current query\n",
    "            ap_score = average_precision_score(binary_relevance, np.ones_like(binary_relevance))\n",
    "            average_precisions.append(ap_score)\n",
    "\n",
    "    # Compute mean Average Precision (mAP) by averaging all the AP scores\n",
    "    mean_ap = np.mean(average_precisions)\n",
    "\n",
    "    return prec_at_1, prec_at_5, mean_ap"
   ]
  },
  {
   "cell_type": "code",
   "execution_count": 4,
   "metadata": {},
   "outputs": [],
   "source": [
    "def sweep():\n",
    "    with wandb.init() as run:\n",
    "        # Get hyperparameters\n",
    "        config = run.config\n",
    "        torch.manual_seed(123) # seed for reproductibility\n",
    "\n",
    "        transform_train = CustomTransform(config, mode='train')\n",
    "\n",
    "        train_dataset = datasets.ImageFolder(root=config['TRAINING_DATASET_DIR'], transform=transform_train)\n",
    "\n",
    "        total_length = len(train_dataset)\n",
    "        train_size = int(0.8 * total_length)  # e.g., 80% for training\n",
    "        valid_size = total_length - train_size  # remaining 20% for validation\n",
    "\n",
    "        train_dataset, validation_dataset = random_split(train_dataset, [train_size, valid_size])\n",
    "\n",
    "        dataloader_train = DataLoader(train_dataset, batch_size=config['batch_size'], shuffle=True)\n",
    "        dataloader_validation = DataLoader(validation_dataset, batch_size=config['batch_size'], shuffle=True)\n",
    "\n",
    "        model = torch.hub.load('pytorch/vision:v0.10.0', 'resnet50', weights='ResNet50_Weights.DEFAULT').eval()\n",
    "        model.fc = nn.Identity()\n",
    "        model = model.to(config['device'])\n",
    "        \n",
    "        pipeline = ImageRetrievalSystem(model, dataloader_train, dataloader_validation, config)\n",
    "        pipeline.fit(precomputed=True)\n",
    "        predictions, labels = pipeline.retrieve(precomputed=True)\n",
    "\n",
    "        predictions = pipeline.train_labels[predictions]\n",
    "\n",
    "        prec_at_1, prec_at_5, mean_ap = evaluate(predictions, labels, config)\n",
    "        \n",
    "        wandb.log({\"prec_at_1\": prec_at_1, \"prec_at5\": prec_at_5, \"mean_ap\": mean_ap})\n"
   ]
  },
  {
   "cell_type": "code",
   "execution_count": 5,
   "metadata": {},
   "outputs": [
    {
     "name": "stderr",
     "output_type": "stream",
     "text": [
      "Failed to detect the name of this notebook, you can set it manually with the WANDB_NOTEBOOK_NAME environment variable to enable code saving.\n"
     ]
    },
    {
     "name": "stdout",
     "output_type": "stream",
     "text": [
      "Create sweep with ID: 0lwk44ks\n",
      "Sweep URL: https://wandb.ai/c5-g8/week3_task1.1/sweeps/0lwk44ks\n"
     ]
    }
   ],
   "source": [
    "sweep_configuration = {\n",
    "    \"method\": \"grid\",\n",
    "    \"name\": \"sweep1\",\n",
    "    \"metric\": {\"goal\": \"maximize\", \"name\": \"mean_ap\"},\n",
    "    \"parameters\": {\n",
    "        'n_neighbors': {'values': [3, 5, 10, 15, 20]},\n",
    "        'metric': {'values': ['euclidean', 'manhattan', 'minkowski']},\n",
    "        'IMG_WIDTH': {'value': 256},\n",
    "        'IMG_HEIGHT': {'value': 256},\n",
    "        'TRAINING_DATASET_DIR': {'value': '../Week 1/data/MIT_split/train'},\n",
    "        'TEST_DATASET_DIR': {'value': '../Week 1/data/MIT_split/test'},\n",
    "        'batch_size': {'value': 32},\n",
    "        'classifier': {'value': 'knn'},\n",
    "        'voronoi_cells': {'value': 64},\n",
    "        'lookup_cells': {'value': 8},\n",
    "        'device': {'value': \"cpu\"}\n",
    "    },\n",
    "}\n",
    "\n",
    "sweep_id = wandb.sweep(sweep=sweep_configuration, project=\"week3_task1.1\", entity=\"c5-g8\")"
   ]
  },
  {
   "cell_type": "code",
   "execution_count": 6,
   "metadata": {},
   "outputs": [
    {
     "name": "stdout",
     "output_type": "stream",
     "text": [
      "Create sweep with ID: eayw9nmw\n",
      "Sweep URL: https://wandb.ai/c5-g8/week3_task1.1/sweeps/eayw9nmw\n"
     ]
    }
   ],
   "source": [
    "sweep_configuration = {\n",
    "    \"method\": \"grid\",\n",
    "    \"name\": \"sweep1\",\n",
    "    \"metric\": {\"goal\": \"maximize\", \"name\": \"mean_ap\"},\n",
    "    \"parameters\": {\n",
    "        'n_neighbors': {'value': 3},\n",
    "        'metric': {'value': 'euclidean'},\n",
    "        'IMG_WIDTH': {'value': 256},\n",
    "        'IMG_HEIGHT': {'value': 256},\n",
    "        'TRAINING_DATASET_DIR': {'value': '../Week 1/data/MIT_split/train'},\n",
    "        'TEST_DATASET_DIR': {'value': '../Week 1/data/MIT_split/test'},\n",
    "        'batch_size': {'value': 32},\n",
    "        'classifier': {'value': 'fais'},\n",
    "        'voronoi_cells': {'values': [32, 64, 128, 256]},\n",
    "        'lookup_cells': {'values': [4, 8, 16, 32]},\n",
    "        'device': {'value': \"cpu\"}\n",
    "    },\n",
    "}\n",
    "\n",
    "sweep_id = wandb.sweep(sweep=sweep_configuration, project=\"week3_task1.1\", entity=\"c5-g8\")"
   ]
  },
  {
   "cell_type": "code",
   "execution_count": 7,
   "metadata": {},
   "outputs": [
    {
     "name": "stderr",
     "output_type": "stream",
     "text": [
      "\u001b[34m\u001b[1mwandb\u001b[0m: Agent Starting Run: xfix7v1h with config:\n",
      "\u001b[34m\u001b[1mwandb\u001b[0m: \tIMG_HEIGHT: 256\n",
      "\u001b[34m\u001b[1mwandb\u001b[0m: \tIMG_WIDTH: 256\n",
      "\u001b[34m\u001b[1mwandb\u001b[0m: \tTEST_DATASET_DIR: ../Week 1/data/MIT_split/test\n",
      "\u001b[34m\u001b[1mwandb\u001b[0m: \tTRAINING_DATASET_DIR: ../Week 1/data/MIT_split/train\n",
      "\u001b[34m\u001b[1mwandb\u001b[0m: \tbatch_size: 32\n",
      "\u001b[34m\u001b[1mwandb\u001b[0m: \tclassifier: fais\n",
      "\u001b[34m\u001b[1mwandb\u001b[0m: \tdevice: cpu\n",
      "\u001b[34m\u001b[1mwandb\u001b[0m: \tlookup_cells: 4\n",
      "\u001b[34m\u001b[1mwandb\u001b[0m: \tmetric: euclidean\n",
      "\u001b[34m\u001b[1mwandb\u001b[0m: \tn_neighbors: 3\n",
      "\u001b[34m\u001b[1mwandb\u001b[0m: \tvoronoi_cells: 32\n",
      "Failed to detect the name of this notebook, you can set it manually with the WANDB_NOTEBOOK_NAME environment variable to enable code saving.\n",
      "\u001b[34m\u001b[1mwandb\u001b[0m: Currently logged in as: \u001b[33mcaguilera1401\u001b[0m (\u001b[33mc5-g8\u001b[0m). Use \u001b[1m`wandb login --relogin`\u001b[0m to force relogin\n"
     ]
    },
    {
     "data": {
      "text/html": [
       "wandb version 0.16.4 is available!  To upgrade, please run:\n",
       " $ pip install wandb --upgrade"
      ],
      "text/plain": [
       "<IPython.core.display.HTML object>"
      ]
     },
     "metadata": {},
     "output_type": "display_data"
    },
    {
     "data": {
      "text/html": [
       "Tracking run with wandb version 0.16.1"
      ],
      "text/plain": [
       "<IPython.core.display.HTML object>"
      ]
     },
     "metadata": {},
     "output_type": "display_data"
    },
    {
     "data": {
      "text/html": [
       "Run data is saved locally in <code>c:\\Users\\cagui\\Documents\\MASTER\\C5 - Visual Recognition\\Project\\MCV-C5\\Week 3\\wandb\\run-20240315_173950-xfix7v1h</code>"
      ],
      "text/plain": [
       "<IPython.core.display.HTML object>"
      ]
     },
     "metadata": {},
     "output_type": "display_data"
    },
    {
     "data": {
      "text/html": [
       "Syncing run <strong><a href='https://wandb.ai/c5-g8/week3_task1.1/runs/xfix7v1h' target=\"_blank\">devoted-sweep-1</a></strong> to <a href='https://wandb.ai/c5-g8/week3_task1.1' target=\"_blank\">Weights & Biases</a> (<a href='https://wandb.me/run' target=\"_blank\">docs</a>)<br/>Sweep page: <a href='https://wandb.ai/c5-g8/week3_task1.1/sweeps/eayw9nmw' target=\"_blank\">https://wandb.ai/c5-g8/week3_task1.1/sweeps/eayw9nmw</a>"
      ],
      "text/plain": [
       "<IPython.core.display.HTML object>"
      ]
     },
     "metadata": {},
     "output_type": "display_data"
    },
    {
     "data": {
      "text/html": [
       " View project at <a href='https://wandb.ai/c5-g8/week3_task1.1' target=\"_blank\">https://wandb.ai/c5-g8/week3_task1.1</a>"
      ],
      "text/plain": [
       "<IPython.core.display.HTML object>"
      ]
     },
     "metadata": {},
     "output_type": "display_data"
    },
    {
     "data": {
      "text/html": [
       " View sweep at <a href='https://wandb.ai/c5-g8/week3_task1.1/sweeps/eayw9nmw' target=\"_blank\">https://wandb.ai/c5-g8/week3_task1.1/sweeps/eayw9nmw</a>"
      ],
      "text/plain": [
       "<IPython.core.display.HTML object>"
      ]
     },
     "metadata": {},
     "output_type": "display_data"
    },
    {
     "data": {
      "text/html": [
       " View run at <a href='https://wandb.ai/c5-g8/week3_task1.1/runs/xfix7v1h' target=\"_blank\">https://wandb.ai/c5-g8/week3_task1.1/runs/xfix7v1h</a>"
      ],
      "text/plain": [
       "<IPython.core.display.HTML object>"
      ]
     },
     "metadata": {},
     "output_type": "display_data"
    },
    {
     "name": "stderr",
     "output_type": "stream",
     "text": [
      "Using cache found in C:\\Users\\cagui/.cache\\torch\\hub\\pytorch_vision_v0.10.0\n"
     ]
    },
    {
     "name": "stdout",
     "output_type": "stream",
     "text": [
      "Fitting the classifier...\n",
      "Retrieving images...\n"
     ]
    }
   ],
   "source": [
    "wandb.agent('c5-g8/week3_task1.1/eayw9nmw', function=sweep, count=16)"
   ]
  },
  {
   "cell_type": "code",
   "execution_count": null,
   "metadata": {},
   "outputs": [],
   "source": []
  }
 ],
 "metadata": {
  "kernelspec": {
   "display_name": "Python 3",
   "language": "python",
   "name": "python3"
  },
  "language_info": {
   "codemirror_mode": {
    "name": "ipython",
    "version": 3
   },
   "file_extension": ".py",
   "mimetype": "text/x-python",
   "name": "python",
   "nbconvert_exporter": "python",
   "pygments_lexer": "ipython3",
   "version": "3.8.18"
  }
 },
 "nbformat": 4,
 "nbformat_minor": 2
}
