{
 "cells": [
  {
   "cell_type": "code",
   "execution_count": 14,
   "metadata": {},
   "outputs": [
    {
     "name": "stdout",
     "output_type": "stream",
     "text": [
      "The autoreload extension is already loaded. To reload it, use:\n",
      "  %reload_ext autoreload\n"
     ]
    }
   ],
   "source": [
    "from pytorch_metric_learning import miners, losses\n",
    "import torch\n",
    "import torch.nn as nn\n",
    "import torchvision.datasets as datasets\n",
    "import torchvision\n",
    "from torch.utils.data import DataLoader, random_split\n",
    "from data_utils import *\n",
    "from train_utils import *\n",
    "\n",
    "%load_ext autoreload\n",
    "%autoreload 2\n",
    "\n",
    "config = {\n",
    "    'IMG_WIDTH': 256,\n",
    "    'IMG_HEIGHT': 256,\n",
    "    'TRAINING_DATASET_DIR': '../Week 1/data/MIT_split/train',\n",
    "    'TEST_DATASET_DIR': '../Week 1/data/MIT_split/test',\n",
    "    'batch_size': 16,\n",
    "    'epochs': 2,\n",
    "    'learning_rate': 0.001,\n",
    "    'device': torch.device(\"cuda\" if torch.cuda.is_available() else \"cpu\")\n",
    "}"
   ]
  },
  {
   "cell_type": "code",
   "execution_count": 8,
   "metadata": {},
   "outputs": [],
   "source": [
    "transform_train = CustomTransform(config, mode='train')\n",
    "transform_test = CustomTransform(config, mode='test')\n",
    "\n",
    "train_dataset = PairDataset(datasets.ImageFolder(root=config['TRAINING_DATASET_DIR'], transform=transform_train))\n",
    "test_dataset =  PairDataset(datasets.ImageFolder(root=config['TEST_DATASET_DIR'], transform=transform_test))\n",
    "\n",
    "total_length = len(train_dataset)\n",
    "train_size = int(0.8 * total_length)  # e.g., 80% for training\n",
    "valid_size = total_length - train_size  # remaining 20% for validation\n",
    "\n",
    "# Split dataset\n",
    "train_dataset, validation_dataset = random_split(train_dataset, [train_size, valid_size])\n",
    "\n",
    "dataloader_train = DataLoader(train_dataset, batch_size=config['batch_size'], shuffle=True)\n",
    "dataloader_validation = DataLoader(validation_dataset, batch_size=config['batch_size'], shuffle=True)\n",
    "dataloader_test = DataLoader(test_dataset, batch_size=config['batch_size'], shuffle=False)"
   ]
  },
  {
   "cell_type": "code",
   "execution_count": 13,
   "metadata": {},
   "outputs": [],
   "source": [
    "# Model Definition remains the same\n",
    "class SiameseNetwork(torch.nn.Module):\n",
    "    def __init__(self):\n",
    "        super(SiameseNetwork, self).__init__()\n",
    "\n",
    "        self.model = torch.hub.load('pytorch/vision:v0.10.0', 'resnet50', weights='ResNet50_Weights.DEFAULT').eval()\n",
    "        self.model.fc = nn.Identity()\n",
    "\n",
    "    def forward(self, x1, x2):\n",
    "        output1 = self.model(x1)\n",
    "        output2 = self.model(x2)\n",
    "        return output1, output2\n",
    "    \n",
    "    def get_embedding(self, x):\n",
    "        return self.model(x)"
   ]
  },
  {
   "cell_type": "code",
   "execution_count": 15,
   "metadata": {},
   "outputs": [
    {
     "name": "stderr",
     "output_type": "stream",
     "text": [
      "Using cache found in C:\\Users\\Luis/.cache\\torch\\hub\\pytorch_vision_v0.10.0\n"
     ]
    },
    {
     "ename": "TypeError",
     "evalue": "__init__() got an unexpected keyword argument 'margin'",
     "output_type": "error",
     "traceback": [
      "\u001b[1;31m---------------------------------------------------------------------------\u001b[0m",
      "\u001b[1;31mTypeError\u001b[0m                                 Traceback (most recent call last)",
      "Cell \u001b[1;32mIn[15], line 8\u001b[0m\n\u001b[0;32m      5\u001b[0m loss_func \u001b[38;5;241m=\u001b[39m losses\u001b[38;5;241m.\u001b[39mContrastiveLoss(pos_margin\u001b[38;5;241m=\u001b[39m\u001b[38;5;241m0\u001b[39m, neg_margin\u001b[38;5;241m=\u001b[39m\u001b[38;5;241m1\u001b[39m)\n\u001b[0;32m      7\u001b[0m \u001b[38;5;66;03m# Integrating PairMarginMiner\u001b[39;00m\n\u001b[1;32m----> 8\u001b[0m miner \u001b[38;5;241m=\u001b[39m \u001b[43mminers\u001b[49m\u001b[38;5;241;43m.\u001b[39;49m\u001b[43mPairMarginMiner\u001b[49m\u001b[43m(\u001b[49m\u001b[43mmargin\u001b[49m\u001b[38;5;241;43m=\u001b[39;49m\u001b[38;5;241;43m0.2\u001b[39;49m\u001b[43m,\u001b[49m\u001b[43m \u001b[49m\u001b[43mtype_of_triplets\u001b[49m\u001b[38;5;241;43m=\u001b[39;49m\u001b[38;5;124;43m\"\u001b[39;49m\u001b[38;5;124;43mall\u001b[39;49m\u001b[38;5;124;43m\"\u001b[39;49m\u001b[43m)\u001b[49m\n\u001b[0;32m     10\u001b[0m optimizer \u001b[38;5;241m=\u001b[39m torch\u001b[38;5;241m.\u001b[39moptim\u001b[38;5;241m.\u001b[39mAdam(model\u001b[38;5;241m.\u001b[39mparameters(), lr\u001b[38;5;241m=\u001b[39mconfig[\u001b[38;5;124m'\u001b[39m\u001b[38;5;124mlearning_rate\u001b[39m\u001b[38;5;124m'\u001b[39m])\n\u001b[0;32m     12\u001b[0m \u001b[38;5;66;03m# Adjusted Training Loop with Miner\u001b[39;00m\n",
      "File \u001b[1;32mc:\\Users\\Luis\\miniconda3\\lib\\site-packages\\pytorch_metric_learning\\miners\\pair_margin_miner.py:14\u001b[0m, in \u001b[0;36mPairMarginMiner.__init__\u001b[1;34m(self, pos_margin, neg_margin, **kwargs)\u001b[0m\n\u001b[0;32m     13\u001b[0m \u001b[38;5;28;01mdef\u001b[39;00m \u001b[38;5;21m__init__\u001b[39m(\u001b[38;5;28mself\u001b[39m, pos_margin\u001b[38;5;241m=\u001b[39m\u001b[38;5;241m0.2\u001b[39m, neg_margin\u001b[38;5;241m=\u001b[39m\u001b[38;5;241m0.8\u001b[39m, \u001b[38;5;241m*\u001b[39m\u001b[38;5;241m*\u001b[39mkwargs):\n\u001b[1;32m---> 14\u001b[0m     \u001b[38;5;28msuper\u001b[39m()\u001b[38;5;241m.\u001b[39m\u001b[38;5;21m__init__\u001b[39m(\u001b[38;5;241m*\u001b[39m\u001b[38;5;241m*\u001b[39mkwargs)\n\u001b[0;32m     15\u001b[0m     \u001b[38;5;28mself\u001b[39m\u001b[38;5;241m.\u001b[39mpos_margin \u001b[38;5;241m=\u001b[39m pos_margin\n\u001b[0;32m     16\u001b[0m     \u001b[38;5;28mself\u001b[39m\u001b[38;5;241m.\u001b[39mneg_margin \u001b[38;5;241m=\u001b[39m neg_margin\n",
      "File \u001b[1;32mc:\\Users\\Luis\\miniconda3\\lib\\site-packages\\pytorch_metric_learning\\miners\\base_miner.py:9\u001b[0m, in \u001b[0;36mBaseMiner.__init__\u001b[1;34m(self, **kwargs)\u001b[0m\n\u001b[0;32m      8\u001b[0m \u001b[38;5;28;01mdef\u001b[39;00m \u001b[38;5;21m__init__\u001b[39m(\u001b[38;5;28mself\u001b[39m, \u001b[38;5;241m*\u001b[39m\u001b[38;5;241m*\u001b[39mkwargs):\n\u001b[1;32m----> 9\u001b[0m     \u001b[38;5;28msuper\u001b[39m()\u001b[38;5;241m.\u001b[39m\u001b[38;5;21m__init__\u001b[39m(\u001b[38;5;241m*\u001b[39m\u001b[38;5;241m*\u001b[39mkwargs)\n\u001b[0;32m     10\u001b[0m     \u001b[38;5;28mself\u001b[39m\u001b[38;5;241m.\u001b[39madd_to_recordable_attributes(\n\u001b[0;32m     11\u001b[0m         list_of_names\u001b[38;5;241m=\u001b[39m[\u001b[38;5;124m\"\u001b[39m\u001b[38;5;124mnum_pos_pairs\u001b[39m\u001b[38;5;124m\"\u001b[39m, \u001b[38;5;124m\"\u001b[39m\u001b[38;5;124mnum_neg_pairs\u001b[39m\u001b[38;5;124m\"\u001b[39m, \u001b[38;5;124m\"\u001b[39m\u001b[38;5;124mnum_triplets\u001b[39m\u001b[38;5;124m\"\u001b[39m],\n\u001b[0;32m     12\u001b[0m         is_stat\u001b[38;5;241m=\u001b[39m\u001b[38;5;28;01mTrue\u001b[39;00m,\n\u001b[0;32m     13\u001b[0m     )\n",
      "File \u001b[1;32mc:\\Users\\Luis\\miniconda3\\lib\\site-packages\\pytorch_metric_learning\\utils\\module_with_records_and_reducer.py:41\u001b[0m, in \u001b[0;36mModuleWithRecordsAndDistance.__init__\u001b[1;34m(self, distance, **kwargs)\u001b[0m\n\u001b[0;32m     40\u001b[0m \u001b[38;5;28;01mdef\u001b[39;00m \u001b[38;5;21m__init__\u001b[39m(\u001b[38;5;28mself\u001b[39m, distance\u001b[38;5;241m=\u001b[39m\u001b[38;5;28;01mNone\u001b[39;00m, \u001b[38;5;241m*\u001b[39m\u001b[38;5;241m*\u001b[39mkwargs):\n\u001b[1;32m---> 41\u001b[0m     \u001b[38;5;28msuper\u001b[39m()\u001b[38;5;241m.\u001b[39m\u001b[38;5;21m__init__\u001b[39m(\u001b[38;5;241m*\u001b[39m\u001b[38;5;241m*\u001b[39mkwargs)\n\u001b[0;32m     42\u001b[0m     \u001b[38;5;28mself\u001b[39m\u001b[38;5;241m.\u001b[39mdistance \u001b[38;5;241m=\u001b[39m \u001b[38;5;28mself\u001b[39m\u001b[38;5;241m.\u001b[39mget_default_distance() \u001b[38;5;28;01mif\u001b[39;00m distance \u001b[38;5;129;01mis\u001b[39;00m \u001b[38;5;28;01mNone\u001b[39;00m \u001b[38;5;28;01melse\u001b[39;00m distance\n",
      "\u001b[1;31mTypeError\u001b[0m: __init__() got an unexpected keyword argument 'margin'"
     ]
    }
   ],
   "source": [
    "model = SiameseNetwork()\n",
    "model.to(config['device'])\n",
    "\n",
    "# Using Contrastive Loss as before\n",
    "loss_func = losses.ContrastiveLoss(pos_margin=0, neg_margin=1)\n",
    "\n",
    "# Integrating PairMarginMiner\n",
    "miner = miners.PairMarginMiner(pos_margin=0.2, type_of_triplets=\"all\")\n",
    "\n",
    "optimizer = torch.optim.Adam(model.parameters(), lr=config['learning_rate'])\n",
    "\n",
    "# Adjusted Training Loop with Miner\n",
    "for epoch in range(config['epochs']):\n",
    "\n",
    "    train_loss = train(model, dataloader_train, optimizer, loss_func, miner, config['device'])\n",
    "    val_loss = validate(model, dataloader_validation, loss_func, miner, config['device'])\n",
    "    \n",
    "    print(f\"Epoch {epoch+1}, Train Loss: {train_loss}, Validation Loss: {val_loss}\")"
   ]
  }
 ],
 "metadata": {
  "kernelspec": {
   "display_name": "Python 3",
   "language": "python",
   "name": "python3"
  },
  "language_info": {
   "codemirror_mode": {
    "name": "ipython",
    "version": 3
   },
   "file_extension": ".py",
   "mimetype": "text/x-python",
   "name": "python",
   "nbconvert_exporter": "python",
   "pygments_lexer": "ipython3",
   "version": "3.9.18"
  }
 },
 "nbformat": 4,
 "nbformat_minor": 2
}
