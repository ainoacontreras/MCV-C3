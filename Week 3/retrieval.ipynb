{
 "cells": [
  {
   "cell_type": "code",
   "execution_count": 3,
   "metadata": {},
   "outputs": [
    {
     "name": "stderr",
     "output_type": "stream",
     "text": [
      "Failed to detect the name of this notebook, you can set it manually with the WANDB_NOTEBOOK_NAME environment variable to enable code saving.\n",
      "\u001b[34m\u001b[1mwandb\u001b[0m: Currently logged in as: \u001b[33mluisgogu2001\u001b[0m (\u001b[33mc5-g8\u001b[0m). Use \u001b[1m`wandb login --relogin`\u001b[0m to force relogin\n",
      "\u001b[34m\u001b[1mwandb\u001b[0m: \u001b[33mWARNING\u001b[0m If you're specifying your api key in code, ensure this code is not shared publicly.\n",
      "\u001b[34m\u001b[1mwandb\u001b[0m: \u001b[33mWARNING\u001b[0m Consider setting the WANDB_API_KEY environment variable, or running `wandb login` from the command line.\n",
      "\u001b[34m\u001b[1mwandb\u001b[0m: Appending key for api.wandb.ai to your netrc file: C:\\Users\\Luis/.netrc\n"
     ]
    },
    {
     "data": {
      "text/plain": [
       "<torch._C.Generator at 0x1b2b13a2690>"
      ]
     },
     "execution_count": 3,
     "metadata": {},
     "output_type": "execute_result"
    }
   ],
   "source": [
    "import torch\n",
    "import torch.nn as nn\n",
    "import torch.nn.functional as F\n",
    "from torch.utils.data import DataLoader, random_split\n",
    "from data_utils import MIT_split_dataset, CustomTransform\n",
    "import numpy as np\n",
    "import wandb\n",
    "from sklearn.neighbors import NearestNeighbors\n",
    "from sklearn.cluster import MiniBatchKMeans\n",
    "from sklearn.metrics import precision_recall_curve, average_precision_score, PrecisionRecallDisplay\n",
    "import matplotlib.pyplot as plt\n",
    "import tqdm\n",
    "import faiss\n",
    "\n",
    "%load_ext autoreload\n",
    "%autoreload 2\n",
    "wandb.login(key='14a56ed86de5bf43e377d95d05458ca8f15f5017')\n",
    "\n",
    "config = {\n",
    "    'IMG_WIDTH': 256,\n",
    "    'IMG_HEIGHT': 256,\n",
    "    'TRAINING_DATASET_DIR': '../Week 1/data/MIT_split/train',\n",
    "    'TEST_DATASET_DIR': '../Week 1/data/MIT_split/test',\n",
    "    'batch_size': 32,\n",
    "    'classifier': 'knn',\n",
    "    'n_neighbors': 5,\n",
    "    'metric': 'euclidean',\n",
    "    'num_words': 256,\n",
    "    'use_bovw': False,\n",
    "    'voronoi_cells': 64,\n",
    "    'lookup_cells': 8,\n",
    "    'device': torch.device(\"cuda\" if torch.cuda.is_available() else \"cpu\")\n",
    "}\n",
    "\n",
    "torch.manual_seed(123) # seed for reproductibility"
   ]
  },
  {
   "cell_type": "code",
   "execution_count": 9,
   "metadata": {},
   "outputs": [],
   "source": [
    "transform_train = CustomTransform(config, mode='train')\n",
    "transform_test = CustomTransform(config, mode='test')\n",
    "\n",
    "train_dataset = datasets.ImageFolder(root=config['TRAINING_DATASET_DIR'], transform=transform_train)\n",
    "test_dataset =  datasets.ImageFolder(root=config['TEST_DATASET_DIR'], transform=transform_test)\n",
    "\n",
    "total_length = len(train_dataset)\n",
    "train_size = int(0.8 * total_length)  # e.g., 80% for training\n",
    "valid_size = total_length - train_size  # remaining 20% for validation\n",
    "\n",
    "# Split dataset\n",
    "train_dataset, validation_dataset = random_split(train_dataset, [train_size, valid_size])\n",
    "\n",
    "dataloader_train = DataLoader(train_dataset, batch_size=config['batch_size'], shuffle=True)\n",
    "dataloader_validation = DataLoader(validation_dataset, batch_size=config['batch_size'], shuffle=True)\n",
    "dataloader_test = DataLoader(test_dataset, batch_size=config['batch_size'], shuffle=False)"
   ]
  },
  {
   "cell_type": "code",
   "execution_count": 5,
   "metadata": {},
   "outputs": [
    {
     "name": "stderr",
     "output_type": "stream",
     "text": [
      "Downloading: \"https://github.com/pytorch/vision/zipball/v0.10.0\" to C:\\Users\\Luis/.cache\\torch\\hub\\v0.10.0.zip\n",
      "Downloading: \"https://download.pytorch.org/models/resnet50-11ad3fa6.pth\" to C:\\Users\\Luis/.cache\\torch\\hub\\checkpoints\\resnet50-11ad3fa6.pth\n",
      "100%|██████████| 97.8M/97.8M [00:09<00:00, 11.3MB/s]\n"
     ]
    }
   ],
   "source": [
    "model = torch.hub.load('pytorch/vision:v0.10.0', 'resnet50', weights='ResNet50_Weights.DEFAULT').eval()\n",
    "model.fc = nn.Identity()\n",
    "model = model.to(config['device'])"
   ]
  },
  {
   "cell_type": "code",
   "execution_count": 6,
   "metadata": {},
   "outputs": [],
   "source": [
    "# Define a function to extract features from an image\n",
    "def extract_features(loader, model, device):\n",
    "    with torch.no_grad():    \n",
    "        features, labels = [], []\n",
    "        for img, label in tqdm.tqdm(loader, total=len(loader), desc='Extracting features'):\n",
    "            features.append(model(img.to(device)).cpu().detach().numpy())\n",
    "            labels.append(label)\n",
    "    return np.concatenate(features).astype('float32'), np.concatenate(labels)\n",
    "\n",
    "# Bag of Visual Words\n",
    "class BoVW:\n",
    "    def __init__(self, config):\n",
    "        self.features = []\n",
    "\n",
    "        self.cluster = MiniBatchKMeans(n_clusters=config['num_words'], batch_size=512, n_init='auto')\n",
    "        self.num_words = config['num_words']\n",
    "\n",
    "    def fit_transform(self, raw_features):\n",
    "\n",
    "        print('Fitting the clustering...')\n",
    "        # Fit the KMeans to the features\n",
    "        self.cluster.fit(raw_features)\n",
    "        # Assign each feature to the nearest visual word and create a histogram for each set of features\n",
    "        visual_words = self.cluster.labels_\n",
    "        bow_features = np.zeros((len(raw_features), self.num_words), dtype=np.float32)\n",
    "        for i, word in enumerate(visual_words):\n",
    "            bow_features[i, word] += 1\n",
    "\n",
    "        # Normalize the histograms to represent the frequency of each visual word appearing in the image\n",
    "        bow_features = bow_features / np.linalg.norm(bow_features, axis=1, keepdims=True)\n",
    "        return bow_features\n",
    "\n",
    "    def transform(self, raw_features):\n",
    "        # Assign features to the nearest visual word without re-fitting the KMeans\n",
    "        visual_words = self.cluster.predict(raw_features)\n",
    "        bow_features = np.zeros((len(raw_features), self.num_words), dtype=np.float32)\n",
    "        for i, word in enumerate(visual_words):\n",
    "            bow_features[i, word] += 1\n",
    "\n",
    "        # Normalize the histograms as in fit_transform\n",
    "        bow_features = bow_features / np.linalg.norm(bow_features, axis=1, keepdims=True)\n",
    "        return bow_features\n",
    "\n",
    "# k-NN Classifier for Image Retrieval\n",
    "class ImageRetrievalSystem:\n",
    "    def __init__(self, model, train_dataloader, test_dataloader, config):\n",
    "        self.use_bovw = config['use_bovw']\n",
    "        self.model = model\n",
    "        self.train_dataloader = train_dataloader\n",
    "        self.test_dataloader = test_dataloader\n",
    "        self.device = config['device']\n",
    "\n",
    "        self.dim = 2048 if not self.use_bovw else config['num_words']\n",
    "        self.classifier_type = config['classifier']\n",
    "        self.n_neighbors = config['n_neighbors']\n",
    "\n",
    "        if self.use_bovw:\n",
    "            self.bow_processor = BoVW(config)\n",
    "\n",
    "        if self.classifier_type == 'knn':\n",
    "            self.classifier = NearestNeighbors(n_neighbors=config['n_neighbors'], metric=config['metric'])\n",
    "        else:\n",
    "            self.classifier = faiss.IndexIVFFlat(faiss.IndexFlatL2(self.dim), self.dim, config['voronoi_cells'])\n",
    "            self.classifier.nprobe = config['lookup_cells']\n",
    "\n",
    "    def fit(self):\n",
    "\n",
    "        features, self.train_labels = extract_features(self.train_dataloader, self.model, self.device)\n",
    "\n",
    "        if self.use_bovw:\n",
    "            features = self.bow_processor.fit_transform(features)\n",
    "        \n",
    "        print('Fitting the classifier...')\n",
    "        if self.classifier_type == 'knn':\n",
    "            self.classifier.fit(features, self.train_labels)\n",
    "        else:\n",
    "            self.classifier.train(features)\n",
    "            self.classifier.add(features)\n",
    "\n",
    "    def retrieve(self):\n",
    "\n",
    "        features, labels = extract_features(self.test_dataloader, self.model, self.device)\n",
    "        if self.use_bovw:\n",
    "            features = self.bow_processor.transform(features)\n",
    "        \n",
    "        print('Retrieving images...')\n",
    "        if self.classifier_type == 'knn':\n",
    "            distances, predictions = self.classifier.kneighbors(features, return_distance=True)\n",
    "        else:\n",
    "            distances, predictions = self.classifier.search(features, self.n_neighbors)\n",
    "        \n",
    "        return predictions, labels, distances"
   ]
  },
  {
   "cell_type": "code",
   "execution_count": 8,
   "metadata": {},
   "outputs": [],
   "source": [
    "def evaluate(predictions, labels):\n",
    "\n",
    "    # Prec@1\n",
    "    prec_at_1 = np.mean([1 if predictions[i, 0] == labels[i] else 0 for i in range(predictions.shape[0])])\n",
    "\n",
    "    # Prec@5\n",
    "    prec_at_5 = np.mean([np.sum([1 if predictions[i, j] == labels[i] else 0 for j in range(config['n_neighbors'])]) / config['n_neighbors'] for i in range(predictions.shape[0])])\n",
    "\n",
    "    # Initialize list to store average precision for each query\n",
    "    average_precisions = []\n",
    "\n",
    "    # Compute binary relevance arrays and calculate average precision for each query\n",
    "    for i in range(predictions.shape[0]):\n",
    "        # Convert true label into binary format for each prediction\n",
    "        binary_relevance = np.array([1 if label == labels[i] else 0 for label in predictions[i]])\n",
    "        \n",
    "        # Ensure there is at least one positive class to avoid division by zero in AP score calculation\n",
    "        if np.sum(binary_relevance) > 0:\n",
    "            # Compute the average precision for the current query\n",
    "            ap_score = average_precision_score(binary_relevance, np.ones_like(binary_relevance))\n",
    "            average_precisions.append(ap_score)\n",
    "\n",
    "    # Compute mean Average Precision (mAP) by averaging all the AP scores\n",
    "    mean_ap = np.mean(average_precisions)\n",
    "\n",
    "    return prec_at_1, prec_at_5, mean_ap"
   ]
  },
  {
   "cell_type": "code",
   "execution_count": 7,
   "metadata": {},
   "outputs": [
    {
     "name": "stderr",
     "output_type": "stream",
     "text": [
      "Extracting features: 100%|██████████| 47/47 [09:52<00:00, 12.61s/it]\n"
     ]
    },
    {
     "name": "stdout",
     "output_type": "stream",
     "text": [
      "Fitting the classifier...\n"
     ]
    },
    {
     "name": "stderr",
     "output_type": "stream",
     "text": [
      "Extracting features: 100%|██████████| 26/26 [05:26<00:00, 12.56s/it]\n"
     ]
    },
    {
     "name": "stdout",
     "output_type": "stream",
     "text": [
      "Retrieving images...\n"
     ]
    }
   ],
   "source": [
    "pipeline = ImageRetrievalSystem(model, dataloader_train, dataloader_test, config)\n",
    "pipeline.fit()\n",
    "predictions, labels, distances = pipeline.retrieve()\n",
    "\n",
    "predictions = pipeline.train_labels[predictions]\n",
    "\n",
    "evaluate(predictions, labels)"
   ]
  },
  {
   "cell_type": "code",
   "execution_count": null,
   "metadata": {},
   "outputs": [],
   "source": [
    "\n"
   ]
  }
 ],
 "metadata": {
  "kernelspec": {
   "display_name": "Python 3",
   "language": "python",
   "name": "python3"
  },
  "language_info": {
   "codemirror_mode": {
    "name": "ipython",
    "version": 3
   },
   "file_extension": ".py",
   "mimetype": "text/x-python",
   "name": "python",
   "nbconvert_exporter": "python",
   "pygments_lexer": "ipython3",
   "version": "3.9.18"
  }
 },
 "nbformat": 4,
 "nbformat_minor": 2
}
