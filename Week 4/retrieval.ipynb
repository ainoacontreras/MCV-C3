{
 "cells": [
  {
   "cell_type": "code",
   "execution_count": 3,
   "metadata": {},
   "outputs": [],
   "source": [
    "import torch\n",
    "import torch.nn as nn\n",
    "from torch.utils.data import DataLoader, random_split\n",
    "from transformers import AutoTokenizer, BertModel\n",
    "from tqdm import tqdm\n",
    "from data_utils import *\n",
    "import fasttext, re, json, faiss\n",
    "import numpy as np\n",
    "from sklearn.neighbors import NearestNeighbors\n",
    "from sklearn.metrics import average_precision_score\n",
    "import matplotlib.pyplot as plt\n",
    "\n",
    "%load_ext autoreload\n",
    "%autoreload 2"
   ]
  },
  {
   "cell_type": "code",
   "execution_count": 4,
   "metadata": {},
   "outputs": [],
   "source": [
    "config = {\n",
    "    'IMG_WIDTH': 224,\n",
    "    'IMG_HEIGHT': 224,\n",
    "    'TEST_DATASET_DIR': 'data/val2014',\n",
    "    'batch_size': 64,\n",
    "    'epochs': 80,\n",
    "    'learning_rate': 0.0001,\n",
    "    'n_neighbors': 5,\n",
    "    'classifier': 'knn',\n",
    "    'text_encoder_type': 'ft',\n",
    "    'metric': 'euclidean',\n",
    "    'voronoi_cells': 64,\n",
    "    'lookup_cells': 8,\n",
    "    'device': torch.device(\"cuda\" if torch.cuda.is_available() else \"cpu\")\n",
    "}"
   ]
  },
  {
   "cell_type": "code",
   "execution_count": 5,
   "metadata": {},
   "outputs": [
    {
     "name": "stderr",
     "output_type": "stream",
     "text": [
      "Creating image-answer pairs...: 100%|██████████| 202654/202654 [10:52<00:00, 310.80it/s]\n"
     ]
    }
   ],
   "source": [
    "# File containing images info (file_name)\n",
    "with open(f\"data/captions_val2014.json\", \"r\") as f:\n",
    "    captions_val = json.load(f)\n",
    "\n",
    "# Dataset for the retrieval\n",
    "retrieval_dataset = CocoMetricDataset(\n",
    "    root=config[\"TEST_DATASET_DIR\"],\n",
    "    captions_file=captions_val,\n",
    "    transforms=CustomTransform(config, mode=\"val\"))\n",
    "\n",
    "total_length = len(retrieval_dataset)\n",
    "train_size = int(0.6 * total_length)  # e.g., 60% for training\n",
    "valid_size = int(0.2 * total_length)  # e.g., 20% for validation\n",
    "test_size = total_length - train_size - valid_size # remaining 20% for testing\n",
    "train_dataset, validation_dataset, test_dataset = random_split(retrieval_dataset, [train_size, valid_size, test_size])\n",
    "\n",
    "dataloader_train = DataLoader(train_dataset, batch_size=config['batch_size'], shuffle=True, collate_fn=coco_collator)\n",
    "dataloader_validation = DataLoader(validation_dataset, batch_size=config['batch_size'], shuffle=False, collate_fn=coco_collator)\n",
    "dataloader_test = DataLoader(test_dataset, batch_size=config['batch_size'], shuffle=False, collate_fn=coco_collator)"
   ]
  },
  {
   "cell_type": "code",
   "execution_count": 5,
   "metadata": {},
   "outputs": [
    {
     "name": "stderr",
     "output_type": "stream",
     "text": [
      "Using cache found in C:\\Users\\Luis/.cache\\torch\\hub\\pytorch_vision_v0.10.0\n"
     ]
    }
   ],
   "source": [
    "def normalize_vector(vec):\n",
    "    norm = np.sqrt(np.sum(vec**2))\n",
    "    if not norm==0:\n",
    "        return vec/norm\n",
    "    else:\n",
    "        return vec\n",
    "\n",
    "# Model Definition remains the same\n",
    "class Net(torch.nn.Module):\n",
    "    def __init__(self, text_encoder_type):\n",
    "        super(Net, self).__init__()\n",
    "\n",
    "        self.visual_encoder = torch.hub.load('pytorch/vision:v0.10.0', 'resnet50', weights='ResNet50_Weights.DEFAULT')\n",
    "        self.visual_encoder.fc = nn.Identity()\n",
    "        \n",
    "        self.text_encoder_type = text_encoder_type\n",
    "        if self.text_encoder_type == 'ft':\n",
    "            self.text_encoder = fasttext.load_model('fasttext_wiki.en.bin')\n",
    "            text_dimension = 300\n",
    "        else:\n",
    "            self.tokenizer = AutoTokenizer.from_pretrained(\"google-bert/bert-base-uncased\")\n",
    "            self.text_encoder = BertModel.from_pretrained(\"google-bert/bert-base-uncased\")\n",
    "            self.text_encoder.eval()\n",
    "            text_dimension = 768\n",
    "\n",
    "            for param in self.text_encoder.parameters():\n",
    "                param.requires_grad = False\n",
    "\n",
    "        self.proj = nn.Linear(text_dimension, 2048)\n",
    "\n",
    "    def sentence_to_vector(self, captions, text_type='ft'):\n",
    "        \"\"\"\n",
    "        Convert a sentence into a vector\n",
    "        \"\"\"\n",
    "        if text_type == 'ft':\n",
    "            batch_embedding = []\n",
    "            for sentence in captions:\n",
    "                sentence = sentence.lower()\n",
    "                words = re.findall(r'\\b\\w+\\b', sentence)\n",
    "                batch_embedding.append(torch.Tensor([normalize_vector(self.text_encoder[word]) for word in words if word in self.text_encoder]).mean(dim=0))\n",
    "            return torch.stack(batch_embedding)\n",
    "        else:\n",
    "            inputs = self.tokenizer(captions, return_tensors=\"pt\", padding=\"longest\", add_special_tokens=True, return_attention_mask=True)\n",
    "            return self.text_encoder(**inputs).last_hidden_state[:, 0, :]\n",
    "        \n",
    "    def forward(self, image, captions):\n",
    "        return self.visual_encoder(image), self.proj(self.sentence_to_vector(captions, text_type=self.text_encoder_type))\n",
    "\n",
    "model = Net(config['text_encoder_type'])\n",
    "# model.load_state_dict(torch.load('pretrained/best_model_triplet.pth', map_location=config['device']))\n",
    "model = model.to(config['device'])"
   ]
  },
  {
   "cell_type": "code",
   "execution_count": 23,
   "metadata": {},
   "outputs": [],
   "source": [
    "def extract_features(loader, model, config, query=False):\n",
    "    model.eval()\n",
    "    with torch.no_grad():\n",
    "        features, labels = [], []\n",
    "        for img, captions, labels in tqdm.tqdm(loader, total=len(loader), desc='Extracting features'):\n",
    "                \n",
    "                if query:\n",
    "                    visual_features, text_features = model(img.to(config['device']), captions.to(config['device']))\n",
    "                else:\n",
    "                    visual_features, _ = model(img.to(config['device']), captions.to(config['device']))\n",
    "\n",
    "\n",
    "        return np.concatenate(features).astype('float32'), np.concatenate(labels)\n",
    "\n",
    "# k-NN Classifier for Image Retrieval\n",
    "class ImageRetrievalSystem:\n",
    "    def __init__(self, model, database_loader, query_loader, config):\n",
    "        self.model = model\n",
    "        self.database_loader = database_loader\n",
    "        self.query_loader = query_loader\n",
    "        self.device = config['device']\n",
    "\n",
    "        self.dim = 2048\n",
    "        self.classifier_type = config['classifier']\n",
    "        self.n_neighbors = config['n_neighbors']\n",
    "\n",
    "        if self.classifier_type == 'knn':\n",
    "            self.classifier = NearestNeighbors(n_neighbors=config['n_neighbors'], metric=config['metric'])\n",
    "        else:\n",
    "            self.classifier = faiss.IndexIVFFlat(faiss.IndexFlatL2(self.dim), self.dim, config['voronoi_cells'])\n",
    "            self.classifier.nprobe = config['lookup_cells']\n",
    "\n",
    "    def fit(self):\n",
    "\n",
    "        features, self.train_labels = extract_features(self.database_loader, self.model, self.device)\n",
    "        \n",
    "        print('Fitting the classifier...')\n",
    "        if self.classifier_type == 'knn':\n",
    "            self.classifier.fit(features, self.train_labels)\n",
    "        else:\n",
    "            self.classifier.train(features)\n",
    "            self.classifier.add(features)\n",
    "\n",
    "    def retrieve(self):\n",
    "\n",
    "        features, labels = extract_features(self.query_loader, self.model, self.device)\n",
    "        \n",
    "        print('Retrieving images...')\n",
    "        if self.classifier_type == 'knn':\n",
    "            _, predictions = self.classifier.kneighbors(features, return_distance=True)\n",
    "        else:\n",
    "            _, predictions = self.classifier.search(features, self.n_neighbors)\n",
    "        \n",
    "        return predictions, labels"
   ]
  },
  {
   "cell_type": "code",
   "execution_count": 18,
   "metadata": {},
   "outputs": [
    {
     "name": "stderr",
     "output_type": "stream",
     "text": [
      "  0%|          | 0/1900 [00:01<?, ?it/s]"
     ]
    },
    {
     "name": "stdout",
     "output_type": "stream",
     "text": [
      "0 torch.Size([64, 3, 224, 224]) 64 torch.Size([64])\n"
     ]
    },
    {
     "name": "stderr",
     "output_type": "stream",
     "text": [
      "\n"
     ]
    }
   ],
   "source": [
    "for i, (images, captions, labels) in tqdm(enumerate(dataloader_train), total=len(dataloader_train)):\n",
    "    print(images.shape, len(captions), labels.shape)\n",
    "    break"
   ]
  },
  {
   "cell_type": "code",
   "execution_count": 22,
   "metadata": {},
   "outputs": [
    {
     "data": {
      "text/plain": [
       "(128,)"
      ]
     },
     "execution_count": 22,
     "metadata": {},
     "output_type": "execute_result"
    }
   ],
   "source": [
    "a = [labels.numpy(), labels.numpy()]\n",
    "np.concatenate(a).shape"
   ]
  }
 ],
 "metadata": {
  "kernelspec": {
   "display_name": "base",
   "language": "python",
   "name": "python3"
  },
  "language_info": {
   "codemirror_mode": {
    "name": "ipython",
    "version": 3
   },
   "file_extension": ".py",
   "mimetype": "text/x-python",
   "name": "python",
   "nbconvert_exporter": "python",
   "pygments_lexer": "ipython3",
   "version": "3.9.18"
  }
 },
 "nbformat": 4,
 "nbformat_minor": 2
}
