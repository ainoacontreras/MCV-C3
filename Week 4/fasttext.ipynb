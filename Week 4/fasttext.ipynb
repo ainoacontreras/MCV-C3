{
 "cells": [
  {
   "cell_type": "code",
   "execution_count": 1,
   "metadata": {},
   "outputs": [
    {
     "name": "stdout",
     "output_type": "stream",
     "text": [
      "Collecting fasttext\n",
      "  Downloading fasttext-0.9.2.tar.gz (68 kB)\n",
      "\u001b[2K     \u001b[90m━━━━━━━━━━━━━━━━━━━━━━━━━━━━━━━━━━━━━━━━\u001b[0m \u001b[32m68.8/68.8 kB\u001b[0m \u001b[31m2.6 MB/s\u001b[0m eta \u001b[36m0:00:00\u001b[0m\n",
      "\u001b[?25h  Preparing metadata (setup.py) ... \u001b[?25ldone\n",
      "\u001b[?25hCollecting pybind11>=2.2 (from fasttext)\n",
      "  Using cached pybind11-2.11.1-py3-none-any.whl.metadata (9.5 kB)\n",
      "Requirement already satisfied: setuptools>=0.7.0 in /home/tda/anaconda3/envs/myenv/lib/python3.8/site-packages (from fasttext) (68.2.2)\n",
      "Requirement already satisfied: numpy in /home/tda/.local/lib/python3.8/site-packages (from fasttext) (1.24.3)\n",
      "Using cached pybind11-2.11.1-py3-none-any.whl (227 kB)\n",
      "Building wheels for collected packages: fasttext\n",
      "  Building wheel for fasttext (setup.py) ... \u001b[?25ldone\n",
      "\u001b[?25h  Created wheel for fasttext: filename=fasttext-0.9.2-cp38-cp38-linux_x86_64.whl size=4775066 sha256=4cd54a6c66aa0adffec5d14600f911f03b5de951becba8f8eed7d0d306642567\n",
      "  Stored in directory: /home/tda/.cache/pip/wheels/93/61/2a/c54711a91c418ba06ba195b1d78ff24fcaad8592f2a694ac94\n",
      "Successfully built fasttext\n",
      "Installing collected packages: pybind11, fasttext\n",
      "Successfully installed fasttext-0.9.2 pybind11-2.11.1\n"
     ]
    }
   ],
   "source": [
    "!pip install fasttext"
   ]
  },
  {
   "cell_type": "code",
   "execution_count": 31,
   "metadata": {},
   "outputs": [],
   "source": [
    "import fasttext\n",
    "import re\n",
    "import numpy as np"
   ]
  },
  {
   "cell_type": "code",
   "execution_count": 32,
   "metadata": {},
   "outputs": [
    {
     "name": "stderr",
     "output_type": "stream",
     "text": [
      "Warning : `load_model` does not return WordVectorModel or SupervisedModel any more, but a `FastText` object which is very similar.\n"
     ]
    }
   ],
   "source": [
    "ft = fasttext.load_model('fasttext_wiki.en.bin')"
   ]
  },
  {
   "cell_type": "code",
   "execution_count": 84,
   "metadata": {},
   "outputs": [],
   "source": [
    "def sentence_to_fasttext_embeddings(sentence):\n",
    "    \"\"\"\n",
    "    Convert a sentence into FastText embeddings for each word\n",
    "    \"\"\"\n",
    "\n",
    "    sentence = sentence.lower()\n",
    "    words = re.findall(r'\\b\\w+\\b', sentence)\n",
    "    embeddings = []\n",
    "\n",
    "    for word in words:\n",
    "        \n",
    "        if word in ft:\n",
    "            embedding = ft[word]\n",
    "            embeddings.append(embedding)\n",
    "\n",
    "    return np.array(embeddings)"
   ]
  },
  {
   "cell_type": "code",
   "execution_count": 85,
   "metadata": {},
   "outputs": [
    {
     "data": {
      "text/plain": [
       "(13, 300)"
      ]
     },
     "execution_count": 85,
     "metadata": {},
     "output_type": "execute_result"
    }
   ],
   "source": [
    "t = \"I am a sentence for which I would like to get its embedding\"\n",
    "embeddings = sentence_to_fasttext_embeddings(t)\n",
    "embeddings.shape"
   ]
  },
  {
   "cell_type": "code",
   "execution_count": 86,
   "metadata": {},
   "outputs": [],
   "source": [
    "def normalize_vector(vec):\n",
    "    norm = np.sqrt(np.sum(vec**2))\n",
    "    if not norm==0:\n",
    "        return vec/norm\n",
    "    else:\n",
    "        return vec\n",
    "    \n",
    "def sentence_to_vector(sentence):\n",
    "    \"\"\"\n",
    "    Convert a sentence into a vector\n",
    "    \"\"\"\n",
    "\n",
    "    embeddings = sentence_to_fasttext_embeddings(sentence)\n",
    "    embeddings = np.array([normalize_vector(vec) for vec in embeddings])\n",
    "    vector = np.mean(embeddings, axis=0)\n",
    "    return vector"
   ]
  },
  {
   "cell_type": "code",
   "execution_count": 87,
   "metadata": {},
   "outputs": [
    {
     "name": "stdout",
     "output_type": "stream",
     "text": [
      "True\n"
     ]
    }
   ],
   "source": [
    "result = np.allclose(sentence_to_vector(t), ft.get_sentence_vector(t.lower()))\n",
    "print(result)"
   ]
  },
  {
   "cell_type": "code",
   "execution_count": null,
   "metadata": {},
   "outputs": [],
   "source": []
  }
 ],
 "metadata": {
  "kernelspec": {
   "display_name": "myenv",
   "language": "python",
   "name": "python3"
  },
  "language_info": {
   "codemirror_mode": {
    "name": "ipython",
    "version": 3
   },
   "file_extension": ".py",
   "mimetype": "text/x-python",
   "name": "python",
   "nbconvert_exporter": "python",
   "pygments_lexer": "ipython3",
   "version": "3.8.18"
  },
  "orig_nbformat": 4
 },
 "nbformat": 4,
 "nbformat_minor": 2
}
