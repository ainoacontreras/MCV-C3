{
 "cells": [
  {
   "cell_type": "code",
   "execution_count": 20,
   "metadata": {},
   "outputs": [],
   "source": [
    "import torch\n",
    "from torch.utils.data import DataLoader, random_split\n",
    "import json\n",
    "from tqdm import tqdm"
   ]
  },
  {
   "cell_type": "code",
   "execution_count": null,
   "metadata": {},
   "outputs": [],
   "source": [
    "config = {\n",
    "    'IMG_WIDTH': 224,\n",
    "    'IMG_HEIGHT': 224,\n",
    "    'TRAINING_DATASET_DIR': \"/home/mcv/datasets/C5/COCO/train2014\",\n",
    "    'TEST_DATASET_DIR': '/home/mcv/datasets/C5/COCO/val2014',\n",
    "    'num_workers': 8,\n",
    "    'batch_size': 64,\n",
    "    'epochs': 80,\n",
    "    'learning_rate': 0.0001,\n",
    "    'n_neighbors': 5,\n",
    "    'type_model': 'triplet',\n",
    "    'num_blocks_unfreeze': 1,\n",
    "    'device': torch.device(\"cuda\" if torch.cuda.is_available() else \"cpu\")\n",
    "}"
   ]
  },
  {
   "cell_type": "code",
   "execution_count": 38,
   "metadata": {},
   "outputs": [],
   "source": [
    "# File containing images info (file_name)\n",
    "with open(f\"/home/mcv/datasets/C5/COCO/captions_train2014.json\", \"r\") as f:\n",
    "    captions_train = json.load(f)\n",
    "\n",
    "with open(f\"/home/mcv/datasets/C5/COCO/captions_val2014.json\", \"r\") as f:\n",
    "    captions_val = json.load(f)"
   ]
  },
  {
   "cell_type": "code",
   "execution_count": 39,
   "metadata": {},
   "outputs": [
    {
     "name": "stderr",
     "output_type": "stream",
     "text": [
      "Creating image-answer pairs...: 100%|██████████| 414113/414113 [14:00<00:00, 492.67it/s]\n"
     ]
    }
   ],
   "source": [
    "# Dataset for finetuning the triplet network\n",
    "finetuning_dataset = CocoMetricDataset(\n",
    "    root=config[\"TRAINING_DATASET_DIR\"], \n",
    "    captions_file=captions_train,\n",
    "    transforms=CustomTransform(config, mode=\"train\"))\n",
    "\n",
    "# Dataset for the retrieval\n",
    "retrieval_dataset = CocoMetricDataset(\n",
    "    root=config[\"TEST_DATASET_DIR\"],\n",
    "    captions_file=captions_val,\n",
    "    transforms=CustomTransform(config, mode=\"val\"))\n",
    "\n",
    "total_length = len(finetuning_dataset)\n",
    "train_size = int(0.6 * total_length)  # e.g., 60% for training\n",
    "valid_size = int(0.2 * total_length)  # e.g., 20% for validation\n",
    "test_size = total_length - train_size - valid_size # remaining 20% for testing\n",
    "train_dataset, validation_dataset, test_dataset = random_split(finetuning_dataset, [train_size, valid_size, test_size])\n",
    "\n",
    "dataloader_train = DataLoader(train_dataset, batch_size=config['batch_size'], shuffle=True, num_workers=config[\"num_workers\"], collate_fn=coco_collator)\n",
    "dataloader_validation = DataLoader(validation_dataset, batch_size=config['batch_size'], shuffle=False, num_workers=config[\"num_workers\"], collate_fn=coco_collator)\n",
    "dataloader_test = DataLoader(test_dataset, batch_size=config['batch_size'], shuffle=False, num_workers=config[\"num_workers\"], collate_fn=coco_collator)"
   ]
  },
  {
   "cell_type": "code",
   "execution_count": 54,
   "metadata": {},
   "outputs": [
    {
     "name": "stderr",
     "output_type": "stream",
     "text": [
      "Training...:   0%|          | 0/3883 [00:04<?, ?it/s]"
     ]
    },
    {
     "name": "stdout",
     "output_type": "stream",
     "text": [
      "0 torch.Size([64, 3, 224, 224]) 64 torch.Size([64])\n"
     ]
    },
    {
     "name": "stderr",
     "output_type": "stream",
     "text": [
      "\n"
     ]
    }
   ],
   "source": [
    "for i, (images, captions, labels) in tqdm(enumerate(dataloader_train), total=len(dataloader_train), desc=\"Training...\"):\n",
    "    images, labels = images.to(config[\"device\"]), labels.to(config[\"device\"])\n",
    "    print(i, images.shape, len(captions), labels.shape)\n",
    "    break"
   ]
  }
 ],
 "metadata": {
  "kernelspec": {
   "display_name": "base",
   "language": "python",
   "name": "python3"
  },
  "language_info": {
   "codemirror_mode": {
    "name": "ipython",
    "version": 3
   },
   "file_extension": ".py",
   "mimetype": "text/x-python",
   "name": "python",
   "nbconvert_exporter": "python",
   "pygments_lexer": "ipython3",
   "version": "3.11.5"
  }
 },
 "nbformat": 4,
 "nbformat_minor": 2
}
